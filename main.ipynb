{
 "cells": [
  {
   "cell_type": "markdown",
   "metadata": {},
   "source": [
    "# GenAI Landscape"
   ]
  },
  {
   "cell_type": "markdown",
   "metadata": {},
   "source": [
    "### Dataset"
   ]
  },
  {
   "cell_type": "markdown",
   "metadata": {},
   "source": [
    "Source:  https://huyenchip.com/llama-police.html"
   ]
  },
  {
   "cell_type": "code",
   "execution_count": 50,
   "metadata": {},
   "outputs": [],
   "source": [
    "# !pip install -r requirements.txt"
   ]
  },
  {
   "cell_type": "code",
   "execution_count": 51,
   "metadata": {},
   "outputs": [],
   "source": [
    "import pandas as pd\n",
    "dataframe = pd.read_csv(\"data/Grid view.csv\")"
   ]
  },
  {
   "cell_type": "code",
   "execution_count": 52,
   "metadata": {},
   "outputs": [
    {
     "data": {
      "text/html": [
       "<div>\n",
       "<style scoped>\n",
       "    .dataframe tbody tr th:only-of-type {\n",
       "        vertical-align: middle;\n",
       "    }\n",
       "\n",
       "    .dataframe tbody tr th {\n",
       "        vertical-align: top;\n",
       "    }\n",
       "\n",
       "    .dataframe thead th {\n",
       "        text-align: right;\n",
       "    }\n",
       "</style>\n",
       "<table border=\"1\" class=\"dataframe\">\n",
       "  <thead>\n",
       "    <tr style=\"text-align: right;\">\n",
       "      <th></th>\n",
       "      <th>repo</th>\n",
       "      <th>category</th>\n",
       "      <th>subcat</th>\n",
       "      <th>stars</th>\n",
       "      <th>star_1d</th>\n",
       "      <th>star_1d_pct</th>\n",
       "      <th>star_7d</th>\n",
       "      <th>star_7d_pct</th>\n",
       "      <th>forks</th>\n",
       "      <th>description</th>\n",
       "      <th>top_devs</th>\n",
       "      <th>contributors</th>\n",
       "      <th>created_at</th>\n",
       "      <th>updated_at</th>\n",
       "      <th>downloads*</th>\n",
       "    </tr>\n",
       "  </thead>\n",
       "  <tbody>\n",
       "    <tr>\n",
       "      <th>0</th>\n",
       "      <td>microsoft/generative-ai-for-beginners</td>\n",
       "      <td>Tutorials</td>\n",
       "      <td>NaN</td>\n",
       "      <td>63687</td>\n",
       "      <td>399</td>\n",
       "      <td>0.63%</td>\n",
       "      <td>1388</td>\n",
       "      <td>2.18%</td>\n",
       "      <td>32377</td>\n",
       "      <td>21 Lessons, Get Started Building with Generati...</td>\n",
       "      <td>koreyspace, john0isaac, yoshioterada</td>\n",
       "      <td>93</td>\n",
       "      <td>2023-06-19</td>\n",
       "      <td>2024-10-07</td>\n",
       "      <td>0</td>\n",
       "    </tr>\n",
       "    <tr>\n",
       "      <th>1</th>\n",
       "      <td>jmorganca/ollama</td>\n",
       "      <td>AI engineering</td>\n",
       "      <td>AI interface</td>\n",
       "      <td>92782</td>\n",
       "      <td>163</td>\n",
       "      <td>0.18%</td>\n",
       "      <td>887</td>\n",
       "      <td>0.96%</td>\n",
       "      <td>7316</td>\n",
       "      <td>Get up and running with Llama 3.2, Mistral, Ge...</td>\n",
       "      <td>mxyng, jmorganca, dhiltgen</td>\n",
       "      <td>100+</td>\n",
       "      <td>2023-06-26</td>\n",
       "      <td>2024-10-10</td>\n",
       "      <td>1936670</td>\n",
       "    </tr>\n",
       "    <tr>\n",
       "      <th>2</th>\n",
       "      <td>Cinnamon/kotaemon</td>\n",
       "      <td>AI engineering</td>\n",
       "      <td>AIE framework</td>\n",
       "      <td>13880</td>\n",
       "      <td>161</td>\n",
       "      <td>1.16%</td>\n",
       "      <td>474</td>\n",
       "      <td>3.41%</td>\n",
       "      <td>1040</td>\n",
       "      <td>An open-source RAG-based tool for chatting wit...</td>\n",
       "      <td>trducng, taprosoft, lone17</td>\n",
       "      <td>20</td>\n",
       "      <td>2024-03-25</td>\n",
       "      <td>2024-10-10</td>\n",
       "      <td>4184</td>\n",
       "    </tr>\n",
       "    <tr>\n",
       "      <th>3</th>\n",
       "      <td>rasbt/LLMs-from-scratch</td>\n",
       "      <td>Tutorials</td>\n",
       "      <td>NaN</td>\n",
       "      <td>28982</td>\n",
       "      <td>145</td>\n",
       "      <td>0.50%</td>\n",
       "      <td>865</td>\n",
       "      <td>2.98%</td>\n",
       "      <td>3323</td>\n",
       "      <td>Implementing a ChatGPT-like LLM in PyTorch fro...</td>\n",
       "      <td>rasbt, d-kleine, Intelligence-Manifesto</td>\n",
       "      <td>25</td>\n",
       "      <td>2023-07-23</td>\n",
       "      <td>2024-10-08</td>\n",
       "      <td>0</td>\n",
       "    </tr>\n",
       "    <tr>\n",
       "      <th>4</th>\n",
       "      <td>langgenius/dify</td>\n",
       "      <td>AI engineering</td>\n",
       "      <td>AIE framework</td>\n",
       "      <td>47552</td>\n",
       "      <td>134</td>\n",
       "      <td>0.28%</td>\n",
       "      <td>489</td>\n",
       "      <td>1.03%</td>\n",
       "      <td>6773</td>\n",
       "      <td>Dify is an open-source LLM app development pla...</td>\n",
       "      <td>takatost, iamjoel, JohnJyong</td>\n",
       "      <td>100+</td>\n",
       "      <td>2023-04-12</td>\n",
       "      <td>2024-10-10</td>\n",
       "      <td>0</td>\n",
       "    </tr>\n",
       "  </tbody>\n",
       "</table>\n",
       "</div>"
      ],
      "text/plain": [
       "                                    repo        category         subcat  \\\n",
       "0  microsoft/generative-ai-for-beginners       Tutorials            NaN   \n",
       "1                       jmorganca/ollama  AI engineering   AI interface   \n",
       "2                      Cinnamon/kotaemon  AI engineering  AIE framework   \n",
       "3                rasbt/LLMs-from-scratch       Tutorials            NaN   \n",
       "4                        langgenius/dify  AI engineering  AIE framework   \n",
       "\n",
       "   stars  star_1d star_1d_pct  star_7d star_7d_pct  forks  \\\n",
       "0  63687      399       0.63%     1388       2.18%  32377   \n",
       "1  92782      163       0.18%      887       0.96%   7316   \n",
       "2  13880      161       1.16%      474       3.41%   1040   \n",
       "3  28982      145       0.50%      865       2.98%   3323   \n",
       "4  47552      134       0.28%      489       1.03%   6773   \n",
       "\n",
       "                                         description  \\\n",
       "0  21 Lessons, Get Started Building with Generati...   \n",
       "1  Get up and running with Llama 3.2, Mistral, Ge...   \n",
       "2  An open-source RAG-based tool for chatting wit...   \n",
       "3  Implementing a ChatGPT-like LLM in PyTorch fro...   \n",
       "4  Dify is an open-source LLM app development pla...   \n",
       "\n",
       "                                  top_devs contributors  created_at  \\\n",
       "0     koreyspace, john0isaac, yoshioterada           93  2023-06-19   \n",
       "1               mxyng, jmorganca, dhiltgen         100+  2023-06-26   \n",
       "2               trducng, taprosoft, lone17           20  2024-03-25   \n",
       "3  rasbt, d-kleine, Intelligence-Manifesto           25  2023-07-23   \n",
       "4             takatost, iamjoel, JohnJyong         100+  2023-04-12   \n",
       "\n",
       "   updated_at  downloads*  \n",
       "0  2024-10-07           0  \n",
       "1  2024-10-10     1936670  \n",
       "2  2024-10-10        4184  \n",
       "3  2024-10-08           0  \n",
       "4  2024-10-10           0  "
      ]
     },
     "execution_count": 52,
     "metadata": {},
     "output_type": "execute_result"
    }
   ],
   "source": [
    "dataframe.head()"
   ]
  },
  {
   "cell_type": "code",
   "execution_count": 53,
   "metadata": {},
   "outputs": [
    {
     "name": "stdout",
     "output_type": "stream",
     "text": [
      "['Tutorials' 'AI engineering' 'Applications' 'Model development'\n",
      " 'Model repo' 'Infrastructure' 'Lists']\n"
     ]
    }
   ],
   "source": [
    "categories = dataframe.category.unique()\n",
    "print(categories)"
   ]
  },
  {
   "cell_type": "code",
   "execution_count": 54,
   "metadata": {},
   "outputs": [
    {
     "name": "stdout",
     "output_type": "stream",
     "text": [
      "[nan 'AI interface' 'AIE framework' 'Agent' 'Coding' 'Modeling & training'\n",
      " 'Image production' 'Inference optimization' 'Multimodal' 'Serving'\n",
      " 'Info aggregation' 'Prompt engineering' 'Bots' 'Workflow automation'\n",
      " 'Monitoring' 'Dataset engineering' 'Evals' 'VectorDB' 'Toolings'\n",
      " 'Multilingual' 'Data organization' 'Writing' 'Data management'\n",
      " 'Compute management' 'Education' 'Video production']\n"
     ]
    }
   ],
   "source": [
    "subcategories = dataframe.subcat.unique()\n",
    "print(subcategories)"
   ]
  },
  {
   "cell_type": "markdown",
   "metadata": {},
   "source": [
    "### Filters"
   ]
  },
  {
   "cell_type": "markdown",
   "metadata": {},
   "source": [
    "### Format"
   ]
  },
  {
   "cell_type": "code",
   "execution_count": 55,
   "metadata": {},
   "outputs": [],
   "source": [
    "def parse_row(row):\n",
    "    item={}\n",
    "    item[\"Name\"]=row[\"repo\"].split(\"/\")[1]\n",
    "    item[\"repo_url\"]=\"https://github.com/\"+row[\"repo\"]\n",
    "    item[\"category\"]=row[\"category\"]\n",
    "    item[\"sub-category\"]=row[\"subcat\"]\n",
    "    return item"
   ]
  },
  {
   "cell_type": "code",
   "execution_count": 56,
   "metadata": {},
   "outputs": [],
   "source": [
    "landscape = {\"item\":[]}\n",
    "for index, row in dataframe.iterrows():\n",
    "    landscape[\"item\"].append(parse_row(row))"
   ]
  },
  {
   "cell_type": "code",
   "execution_count": 57,
   "metadata": {},
   "outputs": [],
   "source": [
    "import yaml\n",
    "with open('data/lanscape.yml', 'w') as outfile:\n",
    "    yaml.dump(landscape, outfile, default_flow_style=False)"
   ]
  }
 ],
 "metadata": {
  "kernelspec": {
   "display_name": ".venv",
   "language": "python",
   "name": "python3"
  },
  "language_info": {
   "codemirror_mode": {
    "name": "ipython",
    "version": 3
   },
   "file_extension": ".py",
   "mimetype": "text/x-python",
   "name": "python",
   "nbconvert_exporter": "python",
   "pygments_lexer": "ipython3",
   "version": "3.11.2"
  }
 },
 "nbformat": 4,
 "nbformat_minor": 2
}
